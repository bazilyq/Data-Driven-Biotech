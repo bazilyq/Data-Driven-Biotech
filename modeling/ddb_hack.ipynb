{
 "cells": [
  {
   "cell_type": "code",
   "execution_count": 17,
   "id": "ff40cec3",
   "metadata": {},
   "outputs": [],
   "source": [
    "# import libraries\n",
    "import pandas as pd\n",
    "import numpy as np\n",
    "\n",
    "from sklearn.linear_model import LinearRegression\n",
    "from sklearn.metrics import mean_absolute_error, mean_squared_error\n",
    "from sklearn.preprocessing import MinMaxScaler\n",
    "from sklearn import preprocessing\n",
    "from sklearn.model_selection import train_test_split\n",
    "from xgboost import XGBRegressor\n",
    "\n",
    "np.random.seed(31415)"
   ]
  },
  {
   "cell_type": "code",
   "execution_count": 2,
   "id": "f3d066db",
   "metadata": {},
   "outputs": [],
   "source": [
    "# getting data\n",
    "PATH = 'Database_'\n",
    "POSTFIX = '.xlsx'\n",
    "\n",
    "df1 = pd.read_excel(PATH + '1' + POSTFIX)\n",
    "df2 = pd.read_excel(PATH + '2' + POSTFIX)\n",
    "df3 = pd.read_excel(PATH + '3' + POSTFIX)\n",
    "df4 = pd.read_excel(PATH + '4' + POSTFIX)\n",
    "df5 = pd.read_excel(PATH + '5' + POSTFIX)"
   ]
  },
  {
   "cell_type": "code",
   "execution_count": 3,
   "id": "257b98bd",
   "metadata": {},
   "outputs": [],
   "source": [
    "# rename similar columns\n",
    "dict1 = {\n",
    "    'Material type' : 'material_type',\n",
    "    'Exposure dose (ug/mL)' : 'exposure_dose',\n",
    "    'Elements' : 'elements',\n",
    "    'Cell type' : 'cell_type',\n",
    "    'Cell line (L)/primary cells (P)' : 'cell_line',\n",
    "    'Viability (%)' : 'cell_viability',\n",
    "    'Hydro size (nm)' : 'hydro_size',\n",
    "    'Surface charge (mV)' : 'surf_charge'\n",
    "    }\n",
    "\n",
    "dict2 = {\n",
    "    'Nanoparticle' : 'material_type',\n",
    "    'Concentration μM' : 'exposure_dose',\n",
    "    'Cells' : 'cell_line',\n",
    "    'coat' : 'coat',\n",
    "    'Human(H)/Animal(A) cells' : 'human_animal_cells',\n",
    "    'Exposure time (h)' : 'exposure_time',\n",
    "    '% Cell viability' : 'cell_viability',\n",
    "    'Diameter (nm)' : 'hydro_size',\n",
    "    'Zeta potential (mV)' : 'surf_charge'\n",
    "    }\n",
    "\n",
    "dict3 = {\n",
    "    'Material' : 'material_type',\n",
    "    'Concentration (ug/ml)' : 'exposure_dose',\n",
    "    'Cell_Type' : 'cell_line',\n",
    "    'Cell Line_Primary Cell' : 'cell_is_line',\n",
    "    'Coat/Functional Group' : 'coat',\n",
    "    'Human_Animal' : 'human_animal_cells',\n",
    "    'Time (hr)' : 'exposure_time',\n",
    "    'Cell_Viability (%)' : 'cell_viability',\n",
    "    'Diameter (nm)' : 'hydro_size',\n",
    "    'Surface_Charge' : 'surf_charge'\n",
    "    }\n",
    "\n",
    "dict4 = {\n",
    "    'Material type' : 'material_type',\n",
    "    'Exposure dose (ug/mL)' : 'exposure_dose',\n",
    "    'Elements' : 'elements',\n",
    "    'Cell type' : 'cell_type',\n",
    "    'Viability (%)' : 'cell_viability',\n",
    "    'Hydro size (nm)' : 'hydro_size',\n",
    "    'Surface charge (mV)' : 'surf_charge'\n",
    "    }\n",
    "\n",
    "dict5 = {\n",
    "    'material' : 'material_type',\n",
    "    'dose' : 'exposure_dose',\n",
    "    'cell_type' : 'cell_type',\n",
    "    'cell_line' : 'cell_line',\n",
    "    'cell_species' : 'human_animal_cells',\n",
    "    'time' : 'exposure_time',\n",
    "    'viability' : 'cell_viability',\n",
    "    'hydro_size' : 'hydro_size',\n",
    "    'surf_charge' : 'surf_charge'\n",
    "    }\n",
    "\n",
    "new_df1 = df1.rename(columns=dict1)\n",
    "new_df2 = df2.rename(columns=dict2)\n",
    "new_df3 = df3.rename(columns=dict3)\n",
    "new_df4 = df4.rename(columns=dict4)\n",
    "new_df5 = df5.rename(columns=dict5)"
   ]
  },
  {
   "cell_type": "code",
   "execution_count": 4,
   "id": "dd09c841",
   "metadata": {},
   "outputs": [],
   "source": [
    "# add db flags\n",
    "\n",
    "new_df1['data_base'] = 1\n",
    "new_df2['data_base'] = 2\n",
    "new_df3['data_base'] = 3\n",
    "new_df4['data_base'] = 4\n",
    "new_df5['data_base'] = 5\n",
    "\n",
    "new_df1.loc[new_df1['hydro_size'].isnull(), 'hydro_size'] = new_df1['hydro_size'].mean()\n",
    "new_df2.loc[new_df2['hydro_size'].isnull(), 'hydro_size']  = new_df2['hydro_size'].mean()\n",
    "new_df3.loc[new_df3['hydro_size'].isnull(), 'hydro_size']  = new_df3['hydro_size'].mean()\n",
    "new_df4.loc[new_df4['hydro_size'].isnull(), 'hydro_size']  = new_df4['hydro_size'].mean()\n",
    "new_df5.loc[new_df5['hydro_size'].isnull(), 'hydro_size']  = new_df5['hydro_size'].mean()\n",
    "\n",
    "new_df1.loc[new_df1['surf_charge'].isnull(), 'surf_charge'] = new_df1['surf_charge'].mean()\n",
    "new_df2.loc[new_df2['surf_charge'].isnull(), 'surf_charge'] = new_df2['surf_charge'].mean()\n",
    "\n",
    "new_df4.loc[new_df4['surf_charge'].isnull(), 'surf_charge'] = new_df4['surf_charge'].mean()\n",
    "new_df5.loc[new_df5['surf_charge'].isnull(), 'surf_charge'] = new_df5['surf_charge'].mean()"
   ]
  },
  {
   "cell_type": "code",
   "execution_count": 6,
   "id": "c7e35c1e",
   "metadata": {},
   "outputs": [],
   "source": [
    "# union data\n",
    "full_df = pd.concat([new_df1, new_df2, new_df3, new_df4, new_df5])[['material_type', 'exposure_dose', 'cell_type', #'cells', \n",
    "                                                         'cell_line', 'coat', 'human_animal_cells', 'exposure_time', 'data_base', \n",
    "                                                         'hydro_size', \n",
    "                                                        'surf_charge',\n",
    "                                                         'cell_viability']]"
   ]
  },
  {
   "cell_type": "code",
   "execution_count": 7,
   "id": "2be31b63",
   "metadata": {},
   "outputs": [],
   "source": [
    "# make the data similar\n",
    "full_df.loc[(full_df['human_animal_cells'] == 'Mouse') | \n",
    "            (full_df['human_animal_cells'] == 'Hamster'), 'human_animal_cells'] = 'A'\n",
    "full_df.loc[full_df['human_animal_cells'] == 'Human', 'human_animal_cells'] = 'H'"
   ]
  },
  {
   "cell_type": "code",
   "execution_count": 8,
   "id": "f309bac2",
   "metadata": {},
   "outputs": [],
   "source": [
    "full_df.fillna(0, inplace=True)"
   ]
  },
  {
   "cell_type": "markdown",
   "id": "d216dbf8",
   "metadata": {},
   "source": [
    "### trying to  predict with db 3"
   ]
  },
  {
   "cell_type": "code",
   "execution_count": 19,
   "id": "0d1c7966",
   "metadata": {},
   "outputs": [
    {
     "name": "stderr",
     "output_type": "stream",
     "text": [
      "C:\\Users\\Mi\\anaconda3\\lib\\site-packages\\sklearn\\utils\\validation.py:624: UserWarning: pandas.DataFrame with sparse columns found.It will be converted to a dense numpy array.\n",
      "  warnings.warn(\n"
     ]
    },
    {
     "name": "stdout",
     "output_type": "stream",
     "text": [
      "17.729306107905874 23.537288090809717\n"
     ]
    },
    {
     "name": "stderr",
     "output_type": "stream",
     "text": [
      "C:\\Users\\Mi\\anaconda3\\lib\\site-packages\\sklearn\\utils\\validation.py:624: UserWarning: pandas.DataFrame with sparse columns found.It will be converted to a dense numpy array.\n",
      "  warnings.warn(\n"
     ]
    }
   ],
   "source": [
    "cut_df3 = new_df3[['material_type', \n",
    "                   'exposure_dose', \n",
    "                   'cell_line', \n",
    "                   'coat', \n",
    "                   'human_animal_cells', \n",
    "                   'exposure_time', \n",
    "                   'hydro_size',\n",
    "                   'surf_charge',\n",
    "                   'cell_viability']]\n",
    "\n",
    "# drop null exp_dose, 99 quantille exp_dose и viability\n",
    "clear_cut_df3 = cut_df3[(cut_df3['exposure_dose'].notna()) &\n",
    "                     (cut_df3['exposure_dose'] < cut_df3['exposure_dose'].quantile(0.99)) &\n",
    "                     (cut_df3['cell_viability'] < cut_df3['cell_viability'].quantile(0.99))].copy()\n",
    "\n",
    "\n",
    "# OHE\n",
    "cut_df3_gd = pd.get_dummies(clear_cut_df3, sparse=True)\n",
    "\n",
    "# train test split\n",
    "splitted_data = train_test_split(cut_df3_gd.drop(['cell_viability'], axis=1), \n",
    "                                 cut_df3_gd['cell_viability'], \n",
    "                                 test_size=0.3, \n",
    "                                 random_state=(31415))\n",
    "X_train, X_test, y_train, y_test = splitted_data\n",
    "\n",
    "\n",
    "# training linear regression\n",
    "regressor = LinearRegression()\n",
    "regressor.fit(X_train, y_train)\n",
    "\n",
    "# predict\n",
    "y_pred = regressor.predict(X_test)\n",
    "\n",
    "# evaluate metrics\n",
    "mae = mean_absolute_error(y_test, y_pred)\n",
    "mse = mean_squared_error(y_test, y_pred)\n",
    "rmse = np.sqrt(mse)\n",
    "\n",
    "print(mae, rmse)"
   ]
  },
  {
   "cell_type": "markdown",
   "id": "aa464112",
   "metadata": {},
   "source": [
    "### trying to predict with all databases"
   ]
  },
  {
   "cell_type": "code",
   "execution_count": 20,
   "id": "d81d66b9",
   "metadata": {},
   "outputs": [
    {
     "name": "stderr",
     "output_type": "stream",
     "text": [
      "C:\\Users\\Mi\\AppData\\Local\\Temp\\ipykernel_3420\\1341050730.py:19: FutureWarning: In a future version, the Index constructor will not infer numeric dtypes when passed object-dtype sequences (matching Series behavior)\n",
      "  cut_df3_gd = pd.get_dummies(clear_cut_df3, sparse=True)\n"
     ]
    },
    {
     "name": "stdout",
     "output_type": "stream",
     "text": [
      "9.027883480242604 13.221811700528198\n"
     ]
    }
   ],
   "source": [
    "cut_df3 = full_df[(full_df['data_base'] == 1) | (full_df['data_base'] == 4)][['material_type', \n",
    "                   'exposure_dose', \n",
    "                   'cell_line', \n",
    "                   'coat', \n",
    "                   'human_animal_cells', \n",
    "                   'exposure_time', \n",
    "                   'hydro_size',\n",
    "                   'surf_charge',\n",
    "                   'cell_viability', \n",
    "                  ]]\n",
    "\n",
    "# drop null exp_dose, 99 quantille exp_dose и viability\n",
    "clear_cut_df3 = cut_df3[(cut_df3['exposure_dose'].notna()) &\n",
    "                     (cut_df3['exposure_dose'] < cut_df3['exposure_dose'].quantile(0.95)) &\n",
    "                     (cut_df3['cell_viability'] < cut_df3['cell_viability'].quantile(0.95))].copy()\n",
    "\n",
    "\n",
    "# OHE\n",
    "cut_df3_gd = pd.get_dummies(clear_cut_df3, sparse=True)\n",
    "\n",
    "# train test split\n",
    "splitted_data = train_test_split(cut_df3_gd.drop(['cell_viability'], axis=1), \n",
    "                                 cut_df3_gd['cell_viability'], \n",
    "                                 test_size=0.3, \n",
    "                                 random_state=(31415))\n",
    "X_train, X_test, y_train, y_test = splitted_data\n",
    "\n",
    "\n",
    "\n",
    "# training XGBRegressor\n",
    "regressor = XGBRegressor()\n",
    "regressor.fit(X_train, y_train)\n",
    "\n",
    "# predict\n",
    "y_pred = regressor.predict(X_test)\n",
    "\n",
    "# evaluate metrics\n",
    "mae = mean_absolute_error(y_test, y_pred)\n",
    "mse = mean_squared_error(y_test, y_pred)\n",
    "rmse = np.sqrt(mse)\n",
    "\n",
    "print(mae, rmse)"
   ]
  },
  {
   "cell_type": "code",
   "execution_count": null,
   "id": "1c41cfa7",
   "metadata": {},
   "outputs": [],
   "source": []
  }
 ],
 "metadata": {
  "kernelspec": {
   "display_name": "Python 3 (ipykernel)",
   "language": "python",
   "name": "python3"
  },
  "language_info": {
   "codemirror_mode": {
    "name": "ipython",
    "version": 3
   },
   "file_extension": ".py",
   "mimetype": "text/x-python",
   "name": "python",
   "nbconvert_exporter": "python",
   "pygments_lexer": "ipython3",
   "version": "3.9.12"
  }
 },
 "nbformat": 4,
 "nbformat_minor": 5
}
